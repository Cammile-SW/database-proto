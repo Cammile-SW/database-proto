{
 "cells": [
  {
   "cell_type": "code",
   "execution_count": 4,
   "metadata": {},
   "outputs": [],
   "source": [
    "import sqlparse"
   ]
  },
  {
   "cell_type": "code",
   "execution_count": 8,
   "metadata": {},
   "outputs": [
    {
     "data": {
      "text/plain": [
       "<Statement 'select...' at 0x7FAF603C8200>"
      ]
     },
     "execution_count": 8,
     "metadata": {},
     "output_type": "execute_result"
    }
   ],
   "source": [
    "sql = 'select a,b,c from my_table;'\n",
    "sqlparse.parse(sql)[0]"
   ]
  },
  {
   "cell_type": "code",
   "execution_count": 7,
   "metadata": {},
   "outputs": [
    {
     "data": {
      "text/plain": [
       "['select a,b,c from my_table;']"
      ]
     },
     "execution_count": 7,
     "metadata": {},
     "output_type": "execute_result"
    }
   ],
   "source": [
    "sqlparse.split(sql)"
   ]
  },
  {
   "cell_type": "code",
   "execution_count": 72,
   "metadata": {},
   "outputs": [],
   "source": [
    "def test(sql):\n",
    "    tokens = []\n",
    "    sql = sqlparse.format(sql, keyword_case = 'upper')\n",
    "    statements = sqlparse.split(sql)\n",
    "    for stat in statements:\n",
    "        token = sqlparse.parse(stat)\n",
    "        tokens.append(token)\n",
    "\n",
    "    return tokens, statements"
   ]
  },
  {
   "cell_type": "code",
   "execution_count": 73,
   "metadata": {},
   "outputs": [],
   "source": [
    "tokens, statements = test(sql)"
   ]
  },
  {
   "cell_type": "code",
   "execution_count": 93,
   "metadata": {},
   "outputs": [
    {
     "name": "stdout",
     "output_type": "stream",
     "text": [
      "where a = b\n"
     ]
    },
    {
     "ename": "StopIteration",
     "evalue": "",
     "output_type": "error",
     "traceback": [
      "\u001b[0;31m---------------------------------------------------------------------------\u001b[0m",
      "\u001b[0;31mStopIteration\u001b[0m                             Traceback (most recent call last)",
      "Input \u001b[0;32mIn [93]\u001b[0m, in \u001b[0;36m<cell line: 7>\u001b[0;34m()\u001b[0m\n\u001b[1;32m      5\u001b[0m \u001b[38;5;28mprint\u001b[39m(where)\n\u001b[1;32m      6\u001b[0m condition \u001b[38;5;241m=\u001b[39m \u001b[38;5;28mnext\u001b[39m(token \u001b[38;5;28;01mfor\u001b[39;00m token \u001b[38;5;129;01min\u001b[39;00m where\u001b[38;5;241m.\u001b[39mtokens \u001b[38;5;28;01mif\u001b[39;00m \u001b[38;5;28misinstance\u001b[39m(token, Comparison))\n\u001b[0;32m----> 7\u001b[0m subquery \u001b[38;5;241m=\u001b[39m \u001b[38;5;28;43mnext\u001b[39;49m\u001b[43m(\u001b[49m\u001b[43mtoken\u001b[49m\u001b[43m \u001b[49m\u001b[38;5;28;43;01mfor\u001b[39;49;00m\u001b[43m \u001b[49m\u001b[43mtoken\u001b[49m\u001b[43m \u001b[49m\u001b[38;5;129;43;01min\u001b[39;49;00m\u001b[43m \u001b[49m\u001b[43mcondition\u001b[49m\u001b[38;5;241;43m.\u001b[39;49m\u001b[43mtokens\u001b[49m\u001b[43m \u001b[49m\u001b[38;5;28;43;01mif\u001b[39;49;00m\u001b[43m \u001b[49m\u001b[38;5;28;43misinstance\u001b[39;49m\u001b[43m(\u001b[49m\u001b[43mtoken\u001b[49m\u001b[43m,\u001b[49m\u001b[43m \u001b[49m\u001b[43mParenthesis\u001b[49m\u001b[43m)\u001b[49m\u001b[43m)\u001b[49m\n",
      "\u001b[0;31mStopIteration\u001b[0m: "
     ]
    }
   ],
   "source": [
    "from sqlparse.sql import Where, Comparison, Parenthesis\n",
    "query = 'select a,b,c from my_table where a = b'\n",
    "query_tokens = sqlparse.parse(query)[0]\n",
    "where = next(token for token in query_tokens.tokens if isinstance(token, Where))\n",
    "print(where)\n",
    "condition = next(token for token in where.tokens if isinstance(token, Comparison))\n",
    "subquery = next(token for token in condition.tokens if isinstance(token, Parenthesis))\n"
   ]
  },
  {
   "cell_type": "code",
   "execution_count": 8,
   "metadata": {},
   "outputs": [],
   "source": [
    "statements = sqlparse.split(sql)\n",
    "token = sqlparse.parse(statements[0])"
   ]
  },
  {
   "cell_type": "code",
   "execution_count": 86,
   "metadata": {},
   "outputs": [
    {
     "name": "stdout",
     "output_type": "stream",
     "text": [
      "SELECT\n",
      "<class 'sqlparse.sql.Token'> SELECT Token.Keyword.DML <class 'sqlparse.tokens._TokenType'>\n",
      "<class 'sqlparse.sql.Token'>   Token.Text.Whitespace <class 'sqlparse.tokens._TokenType'>\n",
      "<class 'sqlparse.sql.IdentifierList'> a,b,c None <class 'NoneType'>\n",
      "<class 'sqlparse.sql.Token'>   Token.Text.Whitespace <class 'sqlparse.tokens._TokenType'>\n",
      "<class 'sqlparse.sql.Token'> FROM Token.Keyword <class 'sqlparse.tokens._TokenType'>\n",
      "<class 'sqlparse.sql.Token'>   Token.Text.Whitespace <class 'sqlparse.tokens._TokenType'>\n",
      "<class 'sqlparse.sql.Identifier'> my_table None <class 'NoneType'>\n",
      "<class 'sqlparse.sql.Token'> ; Token.Punctuation <class 'sqlparse.tokens._TokenType'>\n"
     ]
    }
   ],
   "source": [
    "from sqlparse.sql import Token\n",
    "\n",
    "for sql in tokens:\n",
    "    for token in sql:\n",
    "        print(token.get_type())\n",
    "        \n"
   ]
  },
  {
   "cell_type": "code",
   "execution_count": 81,
   "metadata": {},
   "outputs": [
    {
     "name": "stdout",
     "output_type": "stream",
     "text": [
      "SELECT\n",
      "<class 'sqlparse.sql.Statement'> SELECT a,b,c FROM my_table; <class 'NoneType'>\n",
      "<class 'sqlparse.sql.Statement'> SELECT a,b,c FROM my_table; <class 'NoneType'>\n"
     ]
    }
   ],
   "source": [
    "from sqlparse.sql import Token\n",
    "\n",
    "for sql in tokens:\n",
    "    for token in sql:\n",
    "        print(token.get_type())\n",
    "        print(type(token), token.value, type(token.ttype))\n",
    "        token.token_next(1)\n",
    "        print(type(token), token.value, type(token.ttype))\n"
   ]
  },
  {
   "cell_type": "code",
   "execution_count": 11,
   "metadata": {},
   "outputs": [
    {
     "data": {
      "text/plain": [
       "Token.Keyword"
      ]
     },
     "execution_count": 11,
     "metadata": {},
     "output_type": "execute_result"
    }
   ],
   "source": [
    "token[0].tokens[4].ttype"
   ]
  },
  {
   "cell_type": "code",
   "execution_count": null,
   "metadata": {},
   "outputs": [],
   "source": []
  }
 ],
 "metadata": {
  "interpreter": {
   "hash": "d711d784ce9c5eb8862b805c10be503009e09ce6b8f68ef35d9d4cf7f165cdbc"
  },
  "kernelspec": {
   "display_name": "Python 3.8.6 ('.venv': venv)",
   "language": "python",
   "name": "python3"
  },
  "language_info": {
   "codemirror_mode": {
    "name": "ipython",
    "version": 3
   },
   "file_extension": ".py",
   "mimetype": "text/x-python",
   "name": "python",
   "nbconvert_exporter": "python",
   "pygments_lexer": "ipython3",
   "version": "3.8.6"
  },
  "orig_nbformat": 4
 },
 "nbformat": 4,
 "nbformat_minor": 2
}
